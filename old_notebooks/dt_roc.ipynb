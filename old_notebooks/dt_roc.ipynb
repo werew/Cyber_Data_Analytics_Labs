{
 "cells": [
  {
   "cell_type": "code",
   "execution_count": 1,
   "metadata": {},
   "outputs": [],
   "source": [
    "%matplotlib inline\n",
    "import matplotlib.pyplot as plt\n",
    "import pandas as pd\n",
    "import pickle\n",
    "import numpy as np\n",
    "import graphviz"
   ]
  },
  {
   "cell_type": "code",
   "execution_count": 2,
   "metadata": {},
   "outputs": [],
   "source": [
    "from collections import Counter\n",
    "from imblearn.datasets import fetch_datasets\n",
    "from sklearn import svm, tree\n",
    "from sklearn.linear_model import LogisticRegression\n",
    "from sklearn.model_selection import train_test_split, KFold\n",
    "from sklearn.pipeline import make_pipeline\n",
    "from imblearn.pipeline import make_pipeline as make_pipeline_imb\n",
    "from imblearn.over_sampling import SMOTE\n",
    "from imblearn.under_sampling import NearMiss\n",
    "from imblearn.metrics import classification_report_imbalanced\n",
    "from sklearn.metrics import precision_score, recall_score, f1_score, roc_auc_score, accuracy_score, classification_report"
   ]
  },
  {
   "cell_type": "code",
   "execution_count": 3,
   "metadata": {},
   "outputs": [],
   "source": [
    "Folds = pickle.load(open('folds.pickle', 'rb'))"
   ]
  },
  {
   "cell_type": "code",
   "execution_count": 4,
   "metadata": {},
   "outputs": [],
   "source": [
    "sm = SMOTE(random_state=12)\n",
    "\n",
    "dtc_set = []\n",
    "dtc_sm_set = []\n",
    "lrc_set = []\n",
    "lrc_sm_set = []\n",
    "dot_data_set = []\n",
    "rank = []"
   ]
  },
  {
   "cell_type": "code",
   "execution_count": 5,
   "metadata": {},
   "outputs": [
    {
     "name": "stdout",
     "output_type": "stream",
     "text": [
      "DTC SCORE(/W SMOTE): 0.863371356147\n",
      "DTC SCORE: 0.863371356147\n",
      "LRC SCORE(/W SMOTE): 0.745035910435\n",
      "LRC SCORE: 0.745035910435\n",
      "\n",
      "\n",
      "DTC SCORE(/W SMOTE): 0.859738065061\n",
      "DTC SCORE: 0.859738065061\n",
      "LRC SCORE(/W SMOTE): 0.734896493452\n",
      "LRC SCORE: 0.734896493452\n",
      "\n",
      "\n",
      "DTC SCORE(/W SMOTE): 0.859019856358\n",
      "DTC SCORE: 0.859019856358\n",
      "LRC SCORE(/W SMOTE): 0.728390367554\n",
      "LRC SCORE: 0.728390367554\n",
      "\n",
      "\n",
      "DTC SCORE(/W SMOTE): 0.867089142374\n",
      "DTC SCORE: 0.867089142374\n",
      "LRC SCORE(/W SMOTE): 0.736924376848\n",
      "LRC SCORE: 0.736924376848\n",
      "\n",
      "\n",
      "DTC SCORE(/W SMOTE): 0.86189269117\n",
      "DTC SCORE: 0.86189269117\n",
      "LRC SCORE(/W SMOTE): 0.731939163498\n",
      "LRC SCORE: 0.731939163498\n",
      "\n",
      "\n",
      "DTC SCORE(/W SMOTE): 0.85525982256\n",
      "DTC SCORE: 0.85525982256\n",
      "LRC SCORE(/W SMOTE): 0.737262357414\n",
      "LRC SCORE: 0.737262357414\n",
      "\n",
      "\n",
      "DTC SCORE(/W SMOTE): 0.850021123785\n",
      "DTC SCORE: 0.850021123785\n",
      "LRC SCORE(/W SMOTE): 0.730038022814\n",
      "LRC SCORE: 0.730038022814\n",
      "\n",
      "\n",
      "DTC SCORE(/W SMOTE): 0.86020278834\n",
      "DTC SCORE: 0.86020278834\n",
      "LRC SCORE(/W SMOTE): 0.714828897338\n",
      "LRC SCORE: 0.714828897338\n",
      "\n",
      "\n",
      "DTC SCORE(/W SMOTE): 0.855000211247\n",
      "DTC SCORE: 0.855000211247\n",
      "LRC SCORE(/W SMOTE): 0.722970974693\n",
      "LRC SCORE: 0.722970974693\n",
      "\n",
      "\n",
      "DTC SCORE(/W SMOTE): 0.857746419367\n",
      "DTC SCORE: 0.857746419367\n",
      "LRC SCORE(/W SMOTE): 0.739912966327\n",
      "LRC SCORE: 0.739912966327\n",
      "\n",
      "\n"
     ]
    }
   ],
   "source": [
    "for fold in Folds:\n",
    "    X_train_sm, Y_train_sm = sm.fit_sample(fold[0], fold[1])\n",
    "    dtc = tree.DecisionTreeClassifier(max_depth=5)\n",
    "    dtc.fit(X_train_sm, Y_train_sm)\n",
    "    print(\"DTC SCORE(/W SMOTE): \" + str(dtc.score(fold[2],fold[3])))\n",
    "    dtc_sm_set.append(dtc)\n",
    "    \n",
    "    dtc = tree.DecisionTreeClassifier(max_depth=5)\n",
    "    dtc.fit(fold[0],fold[1])\n",
    "    print(\"DTC SCORE: \" + str(dtc.score(fold[2],fold[3])))\n",
    "    dtc_set.append(dtc)\n",
    "    \n",
    "    lrc = LogisticRegression()\n",
    "    lrc.fit(X_train_sm, Y_train_sm)\n",
    "    print(\"LRC SCORE(/W SMOTE): \" + str(lrc.score(fold[2],fold[3])))\n",
    "    lrc_sm_set.append(lrc)\n",
    "    \n",
    "    lrc = LogisticRegression()\n",
    "    lrc.fit(fold[0], fold[1])\n",
    "    print(\"LRC SCORE: \" + str(lrc.score(fold[2],fold[3])))\n",
    "    lrc_sm_set.append(lrc)\n",
    "    \n",
    "    print(\"\\n\")\n"
   ]
  },
  {
   "cell_type": "code",
   "execution_count": null,
   "metadata": {},
   "outputs": [],
   "source": []
  },
  {
   "cell_type": "code",
   "execution_count": null,
   "metadata": {},
   "outputs": [],
   "source": []
  },
  {
   "cell_type": "code",
   "execution_count": null,
   "metadata": {},
   "outputs": [],
   "source": []
  },
  {
   "cell_type": "code",
   "execution_count": null,
   "metadata": {},
   "outputs": [],
   "source": []
  }
 ],
 "metadata": {
  "kernelspec": {
   "display_name": "Python 3",
   "language": "python",
   "name": "python3"
  },
  "language_info": {
   "codemirror_mode": {
    "name": "ipython",
    "version": 3
   },
   "file_extension": ".py",
   "mimetype": "text/x-python",
   "name": "python",
   "nbconvert_exporter": "python",
   "pygments_lexer": "ipython3",
   "version": "3.6.5rc1"
  }
 },
 "nbformat": 4,
 "nbformat_minor": 2
}
