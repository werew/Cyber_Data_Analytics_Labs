{
 "cells": [
  {
   "cell_type": "code",
   "execution_count": 1,
   "metadata": {},
   "outputs": [],
   "source": [
    "%matplotlib inline\n",
    "import matplotlib.pyplot as plt\n",
    "import pandas as pd\n",
    "import pickle\n",
    "import numpy as np\n",
    "from collections import Counter\n",
    "from imblearn.datasets import fetch_datasets\n",
    "from sklearn.model_selection import train_test_split,KFold\n",
    "from sklearn.pipeline import make_pipeline\n",
    "from sklearn import svm, tree\n",
    "from imblearn.pipeline import make_pipeline as make_pipeline_imb\n",
    "from imblearn.over_sampling import SMOTE\n",
    "from imblearn.under_sampling import NearMiss\n",
    "from imblearn.metrics import classification_report_imbalanced\n",
    "from sklearn.metrics import precision_score, recall_score, f1_score, roc_auc_score, accuracy_score, classification_report\n",
    "from sklearn.metrics import confusion_matrix, roc_curve, auc\n",
    "from sklearn.linear_model import LogisticRegression"
   ]
  },
  {
   "cell_type": "code",
   "execution_count": 2,
   "metadata": {},
   "outputs": [
    {
     "name": "stdout",
     "output_type": "stream",
     "text": [
      "issuercountrycode                        int64\n",
      "txvariantcode                           object\n",
      "bin                                    float64\n",
      "amount                                 float64\n",
      "currencycode                            object\n",
      "shoppercountrycode                      object\n",
      "shopperinteraction                      object\n",
      "cardverificationcodesupplied            object\n",
      "cvcresponsecode                          int64\n",
      "creationdate                    datetime64[ns]\n",
      "accountcode                             object\n",
      "mail_id                                  int64\n",
      "ip_id                                    int64\n",
      "card_id                                  int64\n",
      "label                                    int64\n",
      "creationdate_timestamp                 float64\n",
      "amount_distance                        float64\n",
      "total_cards_used                         int64\n",
      "dtype: object\n"
     ]
    },
    {
     "data": {
      "text/html": [
       "<div>\n",
       "<style scoped>\n",
       "    .dataframe tbody tr th:only-of-type {\n",
       "        vertical-align: middle;\n",
       "    }\n",
       "\n",
       "    .dataframe tbody tr th {\n",
       "        vertical-align: top;\n",
       "    }\n",
       "\n",
       "    .dataframe thead th {\n",
       "        text-align: right;\n",
       "    }\n",
       "</style>\n",
       "<table border=\"1\" class=\"dataframe\">\n",
       "  <thead>\n",
       "    <tr style=\"text-align: right;\">\n",
       "      <th></th>\n",
       "      <th>issuercountrycode</th>\n",
       "      <th>txvariantcode</th>\n",
       "      <th>bin</th>\n",
       "      <th>amount</th>\n",
       "      <th>currencycode</th>\n",
       "      <th>shoppercountrycode</th>\n",
       "      <th>shopperinteraction</th>\n",
       "      <th>cardverificationcodesupplied</th>\n",
       "      <th>cvcresponsecode</th>\n",
       "      <th>creationdate</th>\n",
       "      <th>accountcode</th>\n",
       "      <th>mail_id</th>\n",
       "      <th>ip_id</th>\n",
       "      <th>card_id</th>\n",
       "      <th>label</th>\n",
       "      <th>creationdate_timestamp</th>\n",
       "      <th>amount_distance</th>\n",
       "      <th>total_cards_used</th>\n",
       "    </tr>\n",
       "  </thead>\n",
       "  <tbody>\n",
       "    <tr>\n",
       "      <th>0</th>\n",
       "      <td>76</td>\n",
       "      <td>mccredit</td>\n",
       "      <td>530056.0</td>\n",
       "      <td>64800.0</td>\n",
       "      <td>MXN</td>\n",
       "      <td>MX</td>\n",
       "      <td>Ecommerce</td>\n",
       "      <td>True</td>\n",
       "      <td>0</td>\n",
       "      <td>2015-07-01</td>\n",
       "      <td>MexicoAccount</td>\n",
       "      <td>68370</td>\n",
       "      <td>111778</td>\n",
       "      <td>184798</td>\n",
       "      <td>1</td>\n",
       "      <td>1.435785e+09</td>\n",
       "      <td>0.0</td>\n",
       "      <td>1</td>\n",
       "    </tr>\n",
       "    <tr>\n",
       "      <th>1</th>\n",
       "      <td>76</td>\n",
       "      <td>mccredit</td>\n",
       "      <td>547046.0</td>\n",
       "      <td>44900.0</td>\n",
       "      <td>MXN</td>\n",
       "      <td>MX</td>\n",
       "      <td>Ecommerce</td>\n",
       "      <td>True</td>\n",
       "      <td>0</td>\n",
       "      <td>2015-07-02</td>\n",
       "      <td>MexicoAccount</td>\n",
       "      <td>101299</td>\n",
       "      <td>78749</td>\n",
       "      <td>151595</td>\n",
       "      <td>1</td>\n",
       "      <td>1.435805e+09</td>\n",
       "      <td>0.0</td>\n",
       "      <td>1</td>\n",
       "    </tr>\n",
       "    <tr>\n",
       "      <th>2</th>\n",
       "      <td>76</td>\n",
       "      <td>mccredit</td>\n",
       "      <td>528843.0</td>\n",
       "      <td>149900.0</td>\n",
       "      <td>MXN</td>\n",
       "      <td>MX</td>\n",
       "      <td>Ecommerce</td>\n",
       "      <td>True</td>\n",
       "      <td>0</td>\n",
       "      <td>2015-07-02</td>\n",
       "      <td>MexicoAccount</td>\n",
       "      <td>278604</td>\n",
       "      <td>70594</td>\n",
       "      <td>242142</td>\n",
       "      <td>1</td>\n",
       "      <td>1.435840e+09</td>\n",
       "      <td>0.0</td>\n",
       "      <td>1</td>\n",
       "    </tr>\n",
       "    <tr>\n",
       "      <th>3</th>\n",
       "      <td>76</td>\n",
       "      <td>mccredit</td>\n",
       "      <td>547146.0</td>\n",
       "      <td>109900.0</td>\n",
       "      <td>MXN</td>\n",
       "      <td>MX</td>\n",
       "      <td>Ecommerce</td>\n",
       "      <td>True</td>\n",
       "      <td>0</td>\n",
       "      <td>2015-07-03</td>\n",
       "      <td>MexicoAccount</td>\n",
       "      <td>47409</td>\n",
       "      <td>113648</td>\n",
       "      <td>181744</td>\n",
       "      <td>1</td>\n",
       "      <td>1.435903e+09</td>\n",
       "      <td>0.0</td>\n",
       "      <td>1</td>\n",
       "    </tr>\n",
       "    <tr>\n",
       "      <th>4</th>\n",
       "      <td>76</td>\n",
       "      <td>visaclassic</td>\n",
       "      <td>477291.0</td>\n",
       "      <td>89900.0</td>\n",
       "      <td>MXN</td>\n",
       "      <td>MX</td>\n",
       "      <td>Ecommerce</td>\n",
       "      <td>True</td>\n",
       "      <td>0</td>\n",
       "      <td>2015-07-08</td>\n",
       "      <td>MexicoAccount</td>\n",
       "      <td>205501</td>\n",
       "      <td>83553</td>\n",
       "      <td>97271</td>\n",
       "      <td>1</td>\n",
       "      <td>1.436373e+09</td>\n",
       "      <td>0.0</td>\n",
       "      <td>1</td>\n",
       "    </tr>\n",
       "  </tbody>\n",
       "</table>\n",
       "</div>"
      ],
      "text/plain": [
       "   issuercountrycode txvariantcode       bin    amount currencycode  \\\n",
       "0                 76      mccredit  530056.0   64800.0          MXN   \n",
       "1                 76      mccredit  547046.0   44900.0          MXN   \n",
       "2                 76      mccredit  528843.0  149900.0          MXN   \n",
       "3                 76      mccredit  547146.0  109900.0          MXN   \n",
       "4                 76   visaclassic  477291.0   89900.0          MXN   \n",
       "\n",
       "  shoppercountrycode shopperinteraction cardverificationcodesupplied  \\\n",
       "0                 MX          Ecommerce                         True   \n",
       "1                 MX          Ecommerce                         True   \n",
       "2                 MX          Ecommerce                         True   \n",
       "3                 MX          Ecommerce                         True   \n",
       "4                 MX          Ecommerce                         True   \n",
       "\n",
       "   cvcresponsecode creationdate    accountcode  mail_id   ip_id  card_id  \\\n",
       "0                0   2015-07-01  MexicoAccount    68370  111778   184798   \n",
       "1                0   2015-07-02  MexicoAccount   101299   78749   151595   \n",
       "2                0   2015-07-02  MexicoAccount   278604   70594   242142   \n",
       "3                0   2015-07-03  MexicoAccount    47409  113648   181744   \n",
       "4                0   2015-07-08  MexicoAccount   205501   83553    97271   \n",
       "\n",
       "   label  creationdate_timestamp  amount_distance  total_cards_used  \n",
       "0      1            1.435785e+09              0.0                 1  \n",
       "1      1            1.435805e+09              0.0                 1  \n",
       "2      1            1.435840e+09              0.0                 1  \n",
       "3      1            1.435903e+09              0.0                 1  \n",
       "4      1            1.436373e+09              0.0                 1  "
      ]
     },
     "execution_count": 2,
     "metadata": {},
     "output_type": "execute_result"
    }
   ],
   "source": [
    "# First we load the dataframe \n",
    "df = pickle.load(open('dataframe.pickle', 'rb'))\n",
    "print(df.dtypes)\n",
    "df.head()"
   ]
  },
  {
   "cell_type": "code",
   "execution_count": 3,
   "metadata": {},
   "outputs": [
    {
     "name": "stdout",
     "output_type": "stream",
     "text": [
      "safe transactions: 236353\n",
      "fraudolent transactions: 345\n",
      "Rate: 0.001460\n"
     ]
    }
   ],
   "source": [
    "# Why do we need to process our data with SMOTE ?\n",
    "s = df.label.value_counts()\n",
    "print \"safe transactions: %d\" % s[0]\n",
    "print \"fraudolent transactions: %d\" % s[1]\n",
    "print \"Rate: %f\" % (float(s[1])/float(s[0]))"
   ]
  },
  {
   "cell_type": "code",
   "execution_count": 4,
   "metadata": {},
   "outputs": [
    {
     "name": "stderr",
     "output_type": "stream",
     "text": [
      "/home/luigi/Desktop/my_lab/UNI/SaP_Master/UT/Q4/CDA/penv/local/lib/python2.7/site-packages/pandas/core/indexing.py:537: SettingWithCopyWarning: \n",
      "A value is trying to be set on a copy of a slice from a DataFrame.\n",
      "Try using .loc[row_indexer,col_indexer] = value instead\n",
      "\n",
      "See the caveats in the documentation: http://pandas.pydata.org/pandas-docs/stable/indexing.html#indexing-view-versus-copy\n",
      "  self.obj[item] = s\n"
     ]
    },
    {
     "data": {
      "text/html": [
       "<div>\n",
       "<style scoped>\n",
       "    .dataframe tbody tr th:only-of-type {\n",
       "        vertical-align: middle;\n",
       "    }\n",
       "\n",
       "    .dataframe tbody tr th {\n",
       "        vertical-align: top;\n",
       "    }\n",
       "\n",
       "    .dataframe thead th {\n",
       "        text-align: right;\n",
       "    }\n",
       "</style>\n",
       "<table border=\"1\" class=\"dataframe\">\n",
       "  <thead>\n",
       "    <tr style=\"text-align: right;\">\n",
       "      <th></th>\n",
       "      <th>label</th>\n",
       "      <th>ip_id</th>\n",
       "      <th>issuercountrycode</th>\n",
       "      <th>amount_distance</th>\n",
       "      <th>total_cards_used</th>\n",
       "    </tr>\n",
       "  </thead>\n",
       "  <tbody>\n",
       "    <tr>\n",
       "      <th>0</th>\n",
       "      <td>1</td>\n",
       "      <td>111778</td>\n",
       "      <td>76</td>\n",
       "      <td>0.0</td>\n",
       "      <td>1</td>\n",
       "    </tr>\n",
       "    <tr>\n",
       "      <th>1</th>\n",
       "      <td>1</td>\n",
       "      <td>78749</td>\n",
       "      <td>76</td>\n",
       "      <td>0.0</td>\n",
       "      <td>1</td>\n",
       "    </tr>\n",
       "    <tr>\n",
       "      <th>2</th>\n",
       "      <td>1</td>\n",
       "      <td>70594</td>\n",
       "      <td>76</td>\n",
       "      <td>0.0</td>\n",
       "      <td>1</td>\n",
       "    </tr>\n",
       "    <tr>\n",
       "      <th>3</th>\n",
       "      <td>1</td>\n",
       "      <td>113648</td>\n",
       "      <td>76</td>\n",
       "      <td>0.0</td>\n",
       "      <td>1</td>\n",
       "    </tr>\n",
       "    <tr>\n",
       "      <th>4</th>\n",
       "      <td>1</td>\n",
       "      <td>83553</td>\n",
       "      <td>76</td>\n",
       "      <td>0.0</td>\n",
       "      <td>1</td>\n",
       "    </tr>\n",
       "  </tbody>\n",
       "</table>\n",
       "</div>"
      ],
      "text/plain": [
       "   label   ip_id  issuercountrycode  amount_distance  total_cards_used\n",
       "0      1  111778                 76              0.0                 1\n",
       "1      1   78749                 76              0.0                 1\n",
       "2      1   70594                 76              0.0                 1\n",
       "3      1  113648                 76              0.0                 1\n",
       "4      1   83553                 76              0.0                 1"
      ]
     },
     "execution_count": 4,
     "metadata": {},
     "output_type": "execute_result"
    }
   ],
   "source": [
    "# We filter the most interesting features\n",
    "df_interesting = df[['label','ip_id','issuercountrycode','amount_distance','total_cards_used']]\n",
    "df_interesting.loc[:,('issuercountrycode')] = df_interesting.loc[:,('issuercountrycode')].fillna('??') # We add a custom value for unknown codes\n",
    "df_interesting.head()"
   ]
  },
  {
   "cell_type": "code",
   "execution_count": 5,
   "metadata": {},
   "outputs": [],
   "source": [
    "# Creating training and test sets\n",
    "x_train, x_test, \\\n",
    "y_train, y_test, = train_test_split(df_interesting.drop(['label'], axis=1),\n",
    "                                               df_interesting['label'],\n",
    "                                               test_size = .1,\n",
    "                                               random_state=12)"
   ]
  },
  {
   "cell_type": "markdown",
   "metadata": {},
   "source": [
    "# Task 2"
   ]
  },
  {
   "cell_type": "code",
   "execution_count": 6,
   "metadata": {},
   "outputs": [
    {
     "name": "stdout",
     "output_type": "stream",
     "text": [
      "***************** Before SMOTE *******************\n",
      "safe transactions: 212717\n",
      "fraudolent transactions: 311\n",
      "Rate: 0.001462\n",
      "***************** After SMOTE *******************\n",
      "safe transactions: 212717\n",
      "fraudolent transactions: 212717\n",
      "Rate: 1.000000\n"
     ]
    }
   ],
   "source": [
    "################  SMOTE (note, this is done after sampling) ################\n",
    "\n",
    "# Why do we need to process our data with SMOTE ?\n",
    "print \"***************** Before SMOTE *******************\"\n",
    "safe_trans, bad_trans = y_train.value_counts()\n",
    "print \"safe transactions: %d\" % safe_trans\n",
    "print \"fraudolent transactions: %d\" % bad_trans\n",
    "print \"Rate: %f\" % (float(bad_trans)/float(safe_trans))\n",
    "\n",
    "# Apply SMOTE\n",
    "sm = SMOTE(random_state=12)\n",
    "x_train_smoted, y_train_smoted = sm.fit_sample(x_train, y_train)\n",
    "\n",
    "\n",
    "print \"***************** After SMOTE *******************\"\n",
    "safe_trans, bad_trans = np.bincount(y_train_smoted)\n",
    "print \"safe transactions: %d\" % safe_trans\n",
    "print \"fraudolent transactions: %d\" % bad_trans\n",
    "print \"Rate: %f\" % (float(bad_trans)/float(safe_trans))\n"
   ]
  },
  {
   "cell_type": "markdown",
   "metadata": {},
   "source": [
    "### Now let's fit some classifier on the unsmoted data"
   ]
  },
  {
   "cell_type": "code",
   "execution_count": 24,
   "metadata": {},
   "outputs": [
    {
     "name": "stdout",
     "output_type": "stream",
     "text": [
      "0.99801436417406\n",
      "0.9985635825940008\n",
      "0.9985635825940008\n"
     ]
    }
   ],
   "source": [
    "# Decision tree\n",
    "dt = tree.DecisionTreeClassifier(max_depth=30)\n",
    "dt.fit(x_train, y_train)\n",
    "print dt.score(x_test,y_test)\n",
    "\n",
    "lr = LogisticRegression()\n",
    "lr.fit(x_train, y_train)\n",
    "print lr.score(x_test,y_test)\n",
    "    \n",
    "from sklearn.neural_network import MLPClassifier\n",
    "\n",
    "mlp = MLPClassifier(alpha=1e-5,\n",
    "                    hidden_layer_sizes=(13, 2), random_state=1)\n",
    "mlp.fit(x_train,y_train)\n",
    "print mlp.score(x_test,y_test)\n"
   ]
  },
  {
   "cell_type": "code",
   "execution_count": 18,
   "metadata": {},
   "outputs": [
    {
     "data": {
      "image/png": "[encoded data removed]",
      "text/plain": [
       "<Figure size 432x288 with 1 Axes>"
      ]
     },
     "metadata": {},
     "output_type": "display_data"
    }
   ],
   "source": [
    "dt_y_predict = dt.predict(x_test)\n",
    "lr_y_predict = lr.predict(x_test)\n",
    "\n",
    "\n",
    "plt.figure()\n",
    "\n",
    "\n",
    "fpr, tpr, thresholds = roc_curve(y_test, dt_y_predict)\n",
    "roc_auc = auc(fpr,tpr)\n",
    "plt.plot(fpr, tpr, color='darkorange',\n",
    "         lw=2, label='Decision tree (area = %0.2f)' % roc_auc)\n",
    "\n",
    "\n",
    "fpr, tpr, thresholds = roc_curve(y_test, lr_y_predict)\n",
    "roc_auc = auc(fpr,tpr)\n",
    "plt.plot(fpr, tpr, color='green',\n",
    "         lw=2, label='Logistic regression (area = %0.2f)' % roc_auc)\n",
    "\n",
    "\n",
    "plt.plot([0, 1], [0, 1], color='navy', lw=2, linestyle='--')\n",
    "plt.xlim([0.0, 1.0])\n",
    "plt.ylim([0.0, 1.05])\n",
    "plt.xlabel('False Positive Rate')\n",
    "plt.ylabel('True Positive Rate')\n",
    "plt.title('ROC')\n",
    "plt.legend(loc=\"lower right\")\n",
    "plt.show()"
   ]
  },
  {
   "cell_type": "markdown",
   "metadata": {},
   "source": [
    "### Now let's do the same on the smoted data, and observe the difference"
   ]
  },
  {
   "cell_type": "code",
   "execution_count": 38,
   "metadata": {},
   "outputs": [
    {
     "name": "stdout",
     "output_type": "stream",
     "text": [
      "0.9266582171525137\n",
      "0.7378960709759189\n",
      "0.9974228981833545\n"
     ]
    }
   ],
   "source": [
    "# Decision tree\n",
    "dt = tree.DecisionTreeClassifier(max_depth=30)\n",
    "dt.fit(x_train_smoted, y_train_smoted)\n",
    "print dt.score(x_test,y_test)\n",
    "\n",
    "lr = LogisticRegression()\n",
    "lr.fit(x_train_smoted, y_train_smoted)\n",
    "print lr.score(x_test,y_test)\n",
    "\n",
    "mlp = MLPClassifier(\n",
    "                    hidden_layer_sizes=(4,5, 2), random_state=1)\n",
    "mlp.fit(x_train_smoted,y_train_smoted)\n",
    "print mlp.score(x_test,y_test)"
   ]
  },
  {
   "cell_type": "code",
   "execution_count": 39,
   "metadata": {},
   "outputs": [
    {
     "name": "stdout",
     "output_type": "stream",
     "text": [
      "[0.         0.26193095 1.        ] [0.         0.61764706 1.        ] [2 1 0]\n",
      "[0.         0.00114233 1.        ] [0. 0. 1.] [2 1 0]\n"
     ]
    },
    {
     "data": {
      "image/png": "[encoded data removed]",
      "text/plain": [
       "<Figure size 432x288 with 1 Axes>"
      ]
     },
     "metadata": {},
     "output_type": "display_data"
    }
   ],
   "source": [
    "dt_y_predict = dt.predict(x_test)\n",
    "lr_y_predict = lr.predict(x_test)\n",
    "mlp_y_predict = mlp.predict(x_test)\n",
    "\n",
    "\n",
    "\n",
    "plt.figure()\n",
    "\n",
    "\n",
    "fpr, tpr, thresholds = roc_curve(y_test, dt_y_predict)\n",
    "roc_auc = auc(fpr,tpr)\n",
    "plt.plot(fpr, tpr, color='darkorange',\n",
    "         lw=2, label='Decision tree (area = %0.2f)' % roc_auc)\n",
    "\n",
    "\n",
    "fpr, tpr, thresholds = roc_curve(y_test, lr_y_predict)\n",
    "roc_auc = auc(fpr,tpr)\n",
    "print fpr,tpr,thresholds\n",
    "plt.plot(fpr, tpr, color='green',\n",
    "         lw=2, label='Logistic regression (area = %0.2f)' % roc_auc)\n",
    "\n",
    "fpr, tpr, thresholds = roc_curve(y_test, mlp_y_predict)\n",
    "print fpr,tpr,thresholds\n",
    "roc_auc = auc(fpr,tpr)\n",
    "plt.plot(fpr, tpr, color='red',\n",
    "         lw=2, label='Neural net (area = %0.2f)' % roc_auc)\n",
    "\n",
    "\n",
    "plt.plot([0, 1], [0, 1], color='navy', lw=2, linestyle='--')\n",
    "plt.xlim([0.0, 1.0])\n",
    "plt.ylim([0.0, 1.05])\n",
    "plt.xlabel('False Positive Rate')\n",
    "plt.ylabel('True Positive Rate')\n",
    "plt.title('ROC')\n",
    "plt.legend(loc=\"lower right\")\n",
    "plt.show()"
   ]
  },
  {
   "cell_type": "markdown",
   "metadata": {},
   "source": [
    "# Task 3"
   ]
  },
  {
   "cell_type": "code",
   "execution_count": null,
   "metadata": {},
   "outputs": [],
   "source": [
    "# Creating the folds\n",
    "X = np.array(df_interesting.drop(['label'], axis=1))\n",
    "Y = np.array(df_interesting['label'])\n",
    "\n",
    "Folds = []\n",
    "\n",
    "kf = KFold(n_splits=10) #Already shuffled\n",
    "for train_index, test_index in kf.split(X):\n",
    "    print(\"TRAIN:\", train_index, \"TEST:\", test_index)\n",
    "    X_train, X_test = X[train_index], X[test_index]\n",
    "    Y_train, Y_test = Y[train_index], Y[test_index]\n",
    "    X_train, Y_train = sm.fit_sample(X_train, Y_train)\n",
    "    Folds.append((X_train, Y_train, X_test, Y_test))"
   ]
  }
 ],
 "metadata": {
  "kernelspec": {
   "display_name": "Python 2",
   "language": "python",
   "name": "python2"
  },
  "language_info": {
   "codemirror_mode": {
    "name": "ipython",
    "version": 2
   },
   "file_extension": ".py",
   "mimetype": "text/x-python",
   "name": "python",
   "nbconvert_exporter": "python",
   "pygments_lexer": "ipython2",
   "version": "2.7.14"
  }
 },
 "nbformat": 4,
 "nbformat_minor": 2
}
