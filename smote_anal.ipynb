{
 "cells": [
  {
   "cell_type": "code",
   "execution_count": 1,
   "metadata": {},
   "outputs": [
    {
     "name": "stderr",
     "output_type": "stream",
     "text": [
      "\n",
      "Bad key \"ytick.alignment\" on line 268 in\n",
      "/usr/share/matplotlib/mpl-data/stylelib/classic.mplstyle.\n",
      "You probably need to get an updated matplotlibrc file from\n",
      "http://github.com/matplotlib/matplotlib/blob/master/matplotlibrc.template\n",
      "or from the matplotlib source distribution\n",
      "\n",
      "Bad key \"xtick.alignment\" on line 250 in\n",
      "/usr/share/matplotlib/mpl-data/stylelib/classic.mplstyle.\n",
      "You probably need to get an updated matplotlibrc file from\n",
      "http://github.com/matplotlib/matplotlib/blob/master/matplotlibrc.template\n",
      "or from the matplotlib source distribution\n"
     ]
    }
   ],
   "source": [
    "%matplotlib inline\n",
    "import matplotlib.pyplot as plt\n",
    "import pandas as pd\n",
    "import pickle\n",
    "import numpy as np\n",
    "import graphviz"
   ]
  },
  {
   "cell_type": "code",
   "execution_count": 2,
   "metadata": {},
   "outputs": [],
   "source": [
    "from collections import Counter\n",
    "from imblearn.datasets import fetch_datasets\n",
    "from sklearn import svm, tree\n",
    "from sklearn.linear_model import LogisticRegression\n",
    "from sklearn.model_selection import train_test_split, KFold\n",
    "from sklearn.pipeline import make_pipeline\n",
    "from imblearn.pipeline import make_pipeline as make_pipeline_imb\n",
    "from imblearn.over_sampling import SMOTE\n",
    "from imblearn.under_sampling import NearMiss\n",
    "from imblearn.metrics import classification_report_imbalanced\n",
    "from sklearn.metrics import precision_score, recall_score, f1_score, roc_auc_score, accuracy_score, classification_report"
   ]
  },
  {
   "cell_type": "code",
   "execution_count": 3,
   "metadata": {},
   "outputs": [
    {
     "name": "stdout",
     "output_type": "stream",
     "text": [
      "issuercountrycode                        int64\n",
      "txvariantcode                           object\n",
      "bin                                    float64\n",
      "amount                                 float64\n",
      "currencycode                            object\n",
      "shoppercountrycode                      object\n",
      "shopperinteraction                      object\n",
      "cardverificationcodesupplied            object\n",
      "cvcresponsecode                          int64\n",
      "creationdate                    datetime64[ns]\n",
      "accountcode                             object\n",
      "mail_id                                  int64\n",
      "ip_id                                    int64\n",
      "card_id                                  int64\n",
      "label                                    int64\n",
      "creationdate_timestamp                 float64\n",
      "dtype: object\n"
     ]
    },
    {
     "data": {
      "text/html": [
       "<div>\n",
       "<style scoped>\n",
       "    .dataframe tbody tr th:only-of-type {\n",
       "        vertical-align: middle;\n",
       "    }\n",
       "\n",
       "    .dataframe tbody tr th {\n",
       "        vertical-align: top;\n",
       "    }\n",
       "\n",
       "    .dataframe thead th {\n",
       "        text-align: right;\n",
       "    }\n",
       "</style>\n",
       "<table border=\"1\" class=\"dataframe\">\n",
       "  <thead>\n",
       "    <tr style=\"text-align: right;\">\n",
       "      <th></th>\n",
       "      <th>issuercountrycode</th>\n",
       "      <th>txvariantcode</th>\n",
       "      <th>bin</th>\n",
       "      <th>amount</th>\n",
       "      <th>currencycode</th>\n",
       "      <th>shoppercountrycode</th>\n",
       "      <th>shopperinteraction</th>\n",
       "      <th>cardverificationcodesupplied</th>\n",
       "      <th>cvcresponsecode</th>\n",
       "      <th>creationdate</th>\n",
       "      <th>accountcode</th>\n",
       "      <th>mail_id</th>\n",
       "      <th>ip_id</th>\n",
       "      <th>card_id</th>\n",
       "      <th>label</th>\n",
       "      <th>creationdate_timestamp</th>\n",
       "    </tr>\n",
       "  </thead>\n",
       "  <tbody>\n",
       "    <tr>\n",
       "      <th>0</th>\n",
       "      <td>76</td>\n",
       "      <td>mccredit</td>\n",
       "      <td>530056.0</td>\n",
       "      <td>64800.0</td>\n",
       "      <td>MXN</td>\n",
       "      <td>MX</td>\n",
       "      <td>Ecommerce</td>\n",
       "      <td>True</td>\n",
       "      <td>0</td>\n",
       "      <td>2015-07-01</td>\n",
       "      <td>MexicoAccount</td>\n",
       "      <td>68370</td>\n",
       "      <td>111778</td>\n",
       "      <td>184798</td>\n",
       "      <td>1</td>\n",
       "      <td>1.435785e+09</td>\n",
       "    </tr>\n",
       "    <tr>\n",
       "      <th>1</th>\n",
       "      <td>76</td>\n",
       "      <td>mccredit</td>\n",
       "      <td>547046.0</td>\n",
       "      <td>44900.0</td>\n",
       "      <td>MXN</td>\n",
       "      <td>MX</td>\n",
       "      <td>Ecommerce</td>\n",
       "      <td>True</td>\n",
       "      <td>0</td>\n",
       "      <td>2015-07-02</td>\n",
       "      <td>MexicoAccount</td>\n",
       "      <td>101299</td>\n",
       "      <td>78749</td>\n",
       "      <td>151595</td>\n",
       "      <td>1</td>\n",
       "      <td>1.435805e+09</td>\n",
       "    </tr>\n",
       "    <tr>\n",
       "      <th>2</th>\n",
       "      <td>76</td>\n",
       "      <td>mccredit</td>\n",
       "      <td>528843.0</td>\n",
       "      <td>149900.0</td>\n",
       "      <td>MXN</td>\n",
       "      <td>MX</td>\n",
       "      <td>Ecommerce</td>\n",
       "      <td>True</td>\n",
       "      <td>0</td>\n",
       "      <td>2015-07-02</td>\n",
       "      <td>MexicoAccount</td>\n",
       "      <td>278604</td>\n",
       "      <td>70594</td>\n",
       "      <td>242142</td>\n",
       "      <td>1</td>\n",
       "      <td>1.435840e+09</td>\n",
       "    </tr>\n",
       "    <tr>\n",
       "      <th>3</th>\n",
       "      <td>76</td>\n",
       "      <td>mccredit</td>\n",
       "      <td>547146.0</td>\n",
       "      <td>109900.0</td>\n",
       "      <td>MXN</td>\n",
       "      <td>MX</td>\n",
       "      <td>Ecommerce</td>\n",
       "      <td>True</td>\n",
       "      <td>0</td>\n",
       "      <td>2015-07-03</td>\n",
       "      <td>MexicoAccount</td>\n",
       "      <td>47409</td>\n",
       "      <td>113648</td>\n",
       "      <td>181744</td>\n",
       "      <td>1</td>\n",
       "      <td>1.435903e+09</td>\n",
       "    </tr>\n",
       "    <tr>\n",
       "      <th>4</th>\n",
       "      <td>76</td>\n",
       "      <td>visaclassic</td>\n",
       "      <td>477291.0</td>\n",
       "      <td>89900.0</td>\n",
       "      <td>MXN</td>\n",
       "      <td>MX</td>\n",
       "      <td>Ecommerce</td>\n",
       "      <td>True</td>\n",
       "      <td>0</td>\n",
       "      <td>2015-07-08</td>\n",
       "      <td>MexicoAccount</td>\n",
       "      <td>205501</td>\n",
       "      <td>83553</td>\n",
       "      <td>97271</td>\n",
       "      <td>1</td>\n",
       "      <td>1.436373e+09</td>\n",
       "    </tr>\n",
       "  </tbody>\n",
       "</table>\n",
       "</div>"
      ],
      "text/plain": [
       "   issuercountrycode txvariantcode       bin    amount currencycode  \\\n",
       "0                 76      mccredit  530056.0   64800.0          MXN   \n",
       "1                 76      mccredit  547046.0   44900.0          MXN   \n",
       "2                 76      mccredit  528843.0  149900.0          MXN   \n",
       "3                 76      mccredit  547146.0  109900.0          MXN   \n",
       "4                 76   visaclassic  477291.0   89900.0          MXN   \n",
       "\n",
       "  shoppercountrycode shopperinteraction cardverificationcodesupplied  \\\n",
       "0                 MX          Ecommerce                         True   \n",
       "1                 MX          Ecommerce                         True   \n",
       "2                 MX          Ecommerce                         True   \n",
       "3                 MX          Ecommerce                         True   \n",
       "4                 MX          Ecommerce                         True   \n",
       "\n",
       "   cvcresponsecode creationdate    accountcode  mail_id   ip_id  card_id  \\\n",
       "0                0   2015-07-01  MexicoAccount    68370  111778   184798   \n",
       "1                0   2015-07-02  MexicoAccount   101299   78749   151595   \n",
       "2                0   2015-07-02  MexicoAccount   278604   70594   242142   \n",
       "3                0   2015-07-03  MexicoAccount    47409  113648   181744   \n",
       "4                0   2015-07-08  MexicoAccount   205501   83553    97271   \n",
       "\n",
       "   label  creationdate_timestamp  \n",
       "0      1            1.435785e+09  \n",
       "1      1            1.435805e+09  \n",
       "2      1            1.435840e+09  \n",
       "3      1            1.435903e+09  \n",
       "4      1            1.436373e+09  "
      ]
     },
     "execution_count": 3,
     "metadata": {},
     "output_type": "execute_result"
    }
   ],
   "source": [
    "df = pickle.load(open('dataframe.pickle', 'rb'))\n",
    "print(df.dtypes)\n",
    "df.head()"
   ]
  },
  {
   "cell_type": "code",
   "execution_count": 4,
   "metadata": {},
   "outputs": [
    {
     "data": {
      "text/plain": [
       "236698"
      ]
     },
     "execution_count": 4,
     "metadata": {},
     "output_type": "execute_result"
    }
   ],
   "source": [
    "# TODO: to verify, does this dataframe takes into account Refused transactions?\n",
    "# How many entries in total ?\n",
    "df.shape[0]"
   ]
  },
  {
   "cell_type": "code",
   "execution_count": 5,
   "metadata": {},
   "outputs": [
    {
     "name": "stdout",
     "output_type": "stream",
     "text": [
      "0    236353\n",
      "1       345\n",
      "Name: label, dtype: int64\n",
      "0.00145968107026\n"
     ]
    }
   ],
   "source": [
    "# How many of those are fraudolent and how many are safe ?\n",
    "s = df.label.value_counts()\n",
    "print s\n",
    "print s[1]/float(s[0])"
   ]
  },
  {
   "cell_type": "code",
   "execution_count": 6,
   "metadata": {},
   "outputs": [
    {
     "data": {
      "text/html": [
       "<div>\n",
       "<style scoped>\n",
       "    .dataframe tbody tr th:only-of-type {\n",
       "        vertical-align: middle;\n",
       "    }\n",
       "\n",
       "    .dataframe tbody tr th {\n",
       "        vertical-align: top;\n",
       "    }\n",
       "\n",
       "    .dataframe thead th {\n",
       "        text-align: right;\n",
       "    }\n",
       "</style>\n",
       "<table border=\"1\" class=\"dataframe\">\n",
       "  <thead>\n",
       "    <tr style=\"text-align: right;\">\n",
       "      <th></th>\n",
       "      <th>label</th>\n",
       "      <th>ip_id</th>\n",
       "      <th>issuercountrycode</th>\n",
       "    </tr>\n",
       "  </thead>\n",
       "  <tbody>\n",
       "    <tr>\n",
       "      <th>0</th>\n",
       "      <td>0</td>\n",
       "      <td>129025</td>\n",
       "      <td>40</td>\n",
       "    </tr>\n",
       "    <tr>\n",
       "      <th>1</th>\n",
       "      <td>0</td>\n",
       "      <td>135822</td>\n",
       "      <td>40</td>\n",
       "    </tr>\n",
       "    <tr>\n",
       "      <th>2</th>\n",
       "      <td>0</td>\n",
       "      <td>143351</td>\n",
       "      <td>97</td>\n",
       "    </tr>\n",
       "    <tr>\n",
       "      <th>3</th>\n",
       "      <td>0</td>\n",
       "      <td>335561</td>\n",
       "      <td>40</td>\n",
       "    </tr>\n",
       "    <tr>\n",
       "      <th>4</th>\n",
       "      <td>0</td>\n",
       "      <td>192368</td>\n",
       "      <td>40</td>\n",
       "    </tr>\n",
       "  </tbody>\n",
       "</table>\n",
       "</div>"
      ],
      "text/plain": [
       "   label   ip_id  issuercountrycode\n",
       "0      0  129025                 40\n",
       "1      0  135822                 40\n",
       "2      0  143351                 97\n",
       "3      0  335561                 40\n",
       "4      0  192368                 40"
      ]
     },
     "execution_count": 6,
     "metadata": {},
     "output_type": "execute_result"
    }
   ],
   "source": [
    "# TODO clean and filter only the interesting features, this is just an example:\n",
    "df_interesting = df[['label','ip_id','issuercountrycode']]\n",
    "df_interesting = df_interesting.sample(frac=1).reset_index(drop=True)\n",
    "df_interesting.head()"
   ]
  },
  {
   "cell_type": "code",
   "execution_count": 7,
   "metadata": {},
   "outputs": [],
   "source": [
    "# # Convert categorical variable into dummy/indicator variables for learning\n",
    "# df_encoded = pd.get_dummies(df_interesting)\n",
    "# df_encoded = df_encoded.sample(frac=1).reset_index(drop=True)\n",
    "\n",
    "# df_encoded.head()"
   ]
  },
  {
   "cell_type": "code",
   "execution_count": null,
   "metadata": {},
   "outputs": [
    {
     "name": "stdout",
     "output_type": "stream",
     "text": [
      "(236698, 2)\n",
      "(236698,)\n",
      "DTC SCORE: 0.849683143219\n"
     ]
    }
   ],
   "source": [
    "# # Creating training and test sets\n",
    "# training_features, test_features, \\\n",
    "# training_target, test_target, = train_test_split(df_encoded.drop(['label'], axis=1),\n",
    "#                                                df_encoded['label'],\n",
    "#                                                test_size = .1,\n",
    "#                                                random_state=12)\n",
    "X = np.array(df_interesting.drop(['label'], axis=1))\n",
    "Y = np.array(df_interesting['label'])\n",
    "print X.shape\n",
    "print Y.shape\n",
    "\n",
    "sm = SMOTE(random_state=12)\n",
    "svc = svm.SVC()\n",
    "dtc = tree.DecisionTreeClassifier(max_depth=3)\n",
    "svc_set = []\n",
    "dtc_set = []\n",
    "dot_data_set = []\n",
    "\n",
    "kf = KFold(n_splits=10) #Already shuffled\n",
    "for train_index, test_index in kf.split(X):\n",
    "    #print(\"TRAIN:\", train_index, \"TEST:\", test_index)\n",
    "    X_train, X_test = X[train_index], X[test_index]\n",
    "    Y_train, Y_test = Y[train_index], Y[test_index]\n",
    "    X_train, Y_train = sm.fit_sample(X_train, Y_train)\n",
    "\n",
    "    #print(\"X train SIZE: \" + str(len(X_train)) + \" Y train size: \" + str(len(Y_train)))\n",
    "    #print(\"X test SIZE: \" + str(len(X_test)) + \" Y test size: \" + str(len(Y_test)))\n",
    "    dtc = dtc.fit(X_train, Y_train)\n",
    "    dtc_set.append(dtc)\n",
    "    print(\"DTC SCORE: \" + str(dtc.score(X_test, Y_test)))\n",
    "    \n",
    "    dot_data = tree.export_graphviz(dtc, out_file=None,\n",
    "                               feature_names=list(df_interesting.columns.values[1:]),\n",
    "                               class_names=['benign','fraud'],filled=True, rounded=True,  \n",
    "                               special_characters=True\n",
    "                              ) \n",
    "    dot_data_set.append(dot_data)\n",
    "    \n",
    "    svc.fit(X_train, Y_train)\n",
    "    svc_set.append(svc)\n",
    "    print(\"SVC SCORE: \" + str(svc.score(X_test, Y_test)))\n",
    "    "
   ]
  },
  {
   "cell_type": "code",
   "execution_count": null,
   "metadata": {},
   "outputs": [],
   "source": [
    "graph = graphviz.Source(dot_data_set[0]) \n",
    "graph"
   ]
  },
  {
   "cell_type": "code",
   "execution_count": null,
   "metadata": {},
   "outputs": [],
   "source": [
    "# print(training_features.shape)\n",
    "# print(training_target.shape)"
   ]
  },
  {
   "cell_type": "code",
   "execution_count": null,
   "metadata": {},
   "outputs": [],
   "source": [
    "# # SMOTE analysis (note, this is done after sampling)\n",
    "# sm = SMOTE(random_state=12)\n",
    "# x_res, y_res = sm.fit_sample(training_features, training_target)\n",
    "# print training_target.value_counts()\n",
    "# print np.bincount(y_res)\n"
   ]
  }
 ],
 "metadata": {
  "kernelspec": {
   "display_name": "Python 2",
   "language": "python",
   "name": "python2"
  },
  "language_info": {
   "codemirror_mode": {
    "name": "ipython",
    "version": 2
   },
   "file_extension": ".py",
   "mimetype": "text/x-python",
   "name": "python",
   "nbconvert_exporter": "python",
   "pygments_lexer": "ipython2",
   "version": "2.7.15rc1"
  }
 },
 "nbformat": 4,
 "nbformat_minor": 2
}
